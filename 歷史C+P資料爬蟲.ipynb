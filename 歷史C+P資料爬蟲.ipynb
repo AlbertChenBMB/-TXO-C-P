{
 "cells": [
  {
   "cell_type": "code",
   "execution_count": 24,
   "metadata": {},
   "outputs": [
    {
     "name": "stderr",
     "output_type": "stream",
     "text": [
      "[WDM] - Current google-chrome version is 86.0.4240\n",
      "[WDM] - Get LATEST driver version for 86.0.4240\n",
      "[WDM] - Driver [C:\\Users\\USER\\.wdm\\drivers\\chromedriver\\win32\\86.0.4240.22\\chromedriver.exe] found in cache\n"
     ]
    },
    {
     "name": "stdout",
     "output_type": "stream",
     "text": [
      " \n",
      "finish\n"
     ]
    },
    {
     "ename": "IndexError",
     "evalue": "list index out of range",
     "output_type": "error",
     "traceback": [
      "\u001b[1;31m---------------------------------------------------------------------------\u001b[0m",
      "\u001b[1;31mIndexError\u001b[0m                                Traceback (most recent call last)",
      "\u001b[1;32m<ipython-input-24-ecdc47bc3bf6>\u001b[0m in \u001b[0;36m<module>\u001b[1;34m\u001b[0m\n\u001b[0;32m     30\u001b[0m \u001b[1;33m\u001b[0m\u001b[0m\n\u001b[0;32m     31\u001b[0m         \u001b[0mTable\u001b[0m \u001b[1;33m=\u001b[0m \u001b[0msoup\u001b[0m\u001b[1;33m.\u001b[0m\u001b[0mfind_all\u001b[0m\u001b[1;33m(\u001b[0m\u001b[1;34m'table'\u001b[0m\u001b[1;33m,\u001b[0m\u001b[1;34m'table_a'\u001b[0m \u001b[1;33m)\u001b[0m\u001b[1;33m\u001b[0m\u001b[1;33m\u001b[0m\u001b[0m\n\u001b[1;32m---> 32\u001b[1;33m         \u001b[0mTrsCall\u001b[0m \u001b[1;33m=\u001b[0m \u001b[0mTable\u001b[0m\u001b[1;33m[\u001b[0m\u001b[1;36m0\u001b[0m\u001b[1;33m]\u001b[0m\u001b[1;33m.\u001b[0m\u001b[0mfind_all\u001b[0m\u001b[1;33m(\u001b[0m\u001b[1;34m'tr'\u001b[0m\u001b[1;33m)\u001b[0m\u001b[1;33m\u001b[0m\u001b[1;33m\u001b[0m\u001b[0m\n\u001b[0m\u001b[0;32m     33\u001b[0m         \u001b[0mTrsPut\u001b[0m \u001b[1;33m=\u001b[0m \u001b[0mTable\u001b[0m\u001b[1;33m[\u001b[0m\u001b[1;36m1\u001b[0m\u001b[1;33m]\u001b[0m\u001b[1;33m.\u001b[0m\u001b[0mfind_all\u001b[0m\u001b[1;33m(\u001b[0m\u001b[1;34m'tr'\u001b[0m\u001b[1;33m)\u001b[0m\u001b[1;33m\u001b[0m\u001b[1;33m\u001b[0m\u001b[0m\n\u001b[0;32m     34\u001b[0m         \u001b[1;32mfor\u001b[0m \u001b[0mi\u001b[0m \u001b[1;32min\u001b[0m \u001b[0mrange\u001b[0m\u001b[1;33m(\u001b[0m\u001b[1;36m1\u001b[0m\u001b[1;33m,\u001b[0m\u001b[0mlen\u001b[0m\u001b[1;33m(\u001b[0m\u001b[0mTrsCall\u001b[0m\u001b[1;33m)\u001b[0m\u001b[1;33m)\u001b[0m\u001b[1;33m:\u001b[0m\u001b[1;33m\u001b[0m\u001b[1;33m\u001b[0m\u001b[0m\n",
      "\u001b[1;31mIndexError\u001b[0m: list index out of range"
     ]
    }
   ],
   "source": [
    "from bs4 import BeautifulSoup\n",
    "from selenium import webdriver\n",
    "import sqlite3\n",
    "from timeSleepRandom import timeSleep1To5Random\n",
    "from webdriver_manager.chrome import ChromeDriverManager\n",
    "\n",
    "\n",
    "conn = sqlite3.connect('D:/OneDrive/hugo爬蟲程式交易相關/python爬蟲_君/臺指選擇權(TXO)(行情簡表)/taifex.db')\n",
    "cur = conn.cursor()\n",
    "\n",
    "try:\n",
    "    options = webdriver.ChromeOptions() #建立物件chromeoptions\n",
    "    chrome = webdriver.Chrome(ChromeDriverManager().install()) \n",
    "    chrome.set_page_load_timeout(30) #設定等待時間\n",
    "    chrome.get('https://www.taifex.com.tw/cht/3/optDailyMarketSummary') #連結測試網址\n",
    "   \n",
    "    \n",
    "    for j in range(0,5250): #250個交易日 * 21年\n",
    "        \n",
    "        timeSleep1To5Random() #等待數秒後繼續執行\n",
    "        soup = BeautifulSoup(chrome.page_source , 'html5lib') #解析網頁資訊\n",
    "        \n",
    "        htmlTable = soup.find_all('table','table_a' ) #找網頁原始碼裡 table中所有的 table_a(分買權、賣權)\n",
    "        trsCall = htmlTable[0].find_all('tr') #找到買權裡所有 tr\n",
    "        trsPut = htmlTable[1].find_all('tr') #找到賣權裡所有 tr\n",
    "        \n",
    "        for i in range(1,len(trsCall)): #range裡的 1 是排除表格第一行標題所以不從 0 開始，len(trsCall)計算買權有幾筆資料   \n",
    "            \n",
    "            date = soup.find('h3','clearfix').find('span','right').text #抓網頁中裡的 '日期：2020/11/09' 這個資料            \n",
    "            dateSplit = date.split(':',1) #將上面的 '日期：2020/11/09' 以 '：' 分割  \n",
    "            \n",
    "            tdsCall = [td for td in trsCall[i].children]  #取得買權裡 tr中所有 td轉為list\n",
    "            tdsPut = [td for td in trsPut[i].children]  #取得賣權裡 tr中所有 td轉為list\n",
    "\n",
    "            if len(tdsCall) <10: #判斷表格內長度是否小於十，要排除掉最後一行的文字\n",
    "                break               \n",
    "\n",
    "\n",
    "            cur.execute('insert into txo_cp(日期, 合約, 履約價, 結算價call, 結算價put) values(?, ?, ?, ?, ?)', #新增資料到資料庫\n",
    "                        (dateSplit[1],tdsCall[1].text, tdsCall[3].text,tdsCall[11].text, tdsPut[11].text)) \n",
    "            \n",
    "        conn.commit() #執行這行才會真的寫入資料表\n",
    "        \n",
    "        chrome.find_element_by_xpath('/html/body/div[2]/div[4]/div[2]/div/div[2]/table/tbody/tr[4]/td/input[1]').click() #抓取網頁中的 '前一日'並點擊\n",
    "    timeSleep1To5Random() #等待數秒後繼續執行\n",
    "    \n",
    "    \n",
    "        \n",
    "finally:\n",
    "    conn.close()\n",
    "    print('finish')\n",
    "\n",
    "\n"
   ]
  },
  {
   "cell_type": "code",
   "execution_count": null,
   "metadata": {},
   "outputs": [],
   "source": []
  },
  {
   "cell_type": "code",
   "execution_count": null,
   "metadata": {},
   "outputs": [],
   "source": []
  },
  {
   "cell_type": "code",
   "execution_count": null,
   "metadata": {},
   "outputs": [],
   "source": []
  }
 ],
 "metadata": {
  "kernelspec": {
   "display_name": "Python 3",
   "language": "python",
   "name": "python3"
  },
  "language_info": {
   "codemirror_mode": {
    "name": "ipython",
    "version": 3
   },
   "file_extension": ".py",
   "mimetype": "text/x-python",
   "name": "python",
   "nbconvert_exporter": "python",
   "pygments_lexer": "ipython3",
   "version": "3.8.5"
  }
 },
 "nbformat": 4,
 "nbformat_minor": 4
}
